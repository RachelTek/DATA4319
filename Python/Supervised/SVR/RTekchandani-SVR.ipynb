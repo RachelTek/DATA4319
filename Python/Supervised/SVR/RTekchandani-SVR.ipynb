{
 "cells": [
  {
   "cell_type": "markdown",
   "metadata": {},
   "source": [
    "### Rachel Tekchandani\n",
    "### DATA 4319\n",
    "---\n",
    "\n",
    "### Supervised Learning : Support Vector Regression\n",
    "\n",
    "![](SVR1.png)\n",
    "\n",
    "Support vector regression is similar to linear regression but we have an $\\epsilon$ insensitive tube around the regression line which allows for a specified amount of error in the model.\n",
    "\n",
    "The distance between the points from the tube is minmized.  The equation is \n",
    "\n",
    "# $$ \\frac{1}{2}\\left\\lVert w \\right\\rVert ^2 + C \\sum_{i=1}^m ( \\xi_1 + \\xi^*_i ) \\rightarrow min$$"
   ]
  },
  {
   "cell_type": "code",
   "execution_count": 10,
   "metadata": {},
   "outputs": [],
   "source": [
    "# import required libraries\n",
    "import numpy as np\n",
    "import matplotlib.pyplot as plt\n",
    "import pandas as pd\n",
    "from sympy import Matrix"
   ]
  },
  {
   "cell_type": "markdown",
   "metadata": {},
   "source": [
    "---\n",
    "\n",
    "Data is a collection of salaries based on position and level. We can use this data to create a regression model to predict and justify a salary of someone coming into the company at a specific level.\n",
    "\n",
    "![](salary.jpg)\n",
    "\n",
    "---"
   ]
  },
  {
   "cell_type": "code",
   "execution_count": 7,
   "metadata": {},
   "outputs": [
    {
     "data": {
      "text/html": [
       "<div>\n",
       "<style scoped>\n",
       "    .dataframe tbody tr th:only-of-type {\n",
       "        vertical-align: middle;\n",
       "    }\n",
       "\n",
       "    .dataframe tbody tr th {\n",
       "        vertical-align: top;\n",
       "    }\n",
       "\n",
       "    .dataframe thead th {\n",
       "        text-align: right;\n",
       "    }\n",
       "</style>\n",
       "<table border=\"1\" class=\"dataframe\">\n",
       "  <thead>\n",
       "    <tr style=\"text-align: right;\">\n",
       "      <th></th>\n",
       "      <th>Position</th>\n",
       "      <th>Level</th>\n",
       "      <th>Salary</th>\n",
       "    </tr>\n",
       "  </thead>\n",
       "  <tbody>\n",
       "    <tr>\n",
       "      <th>0</th>\n",
       "      <td>Business Analyst</td>\n",
       "      <td>1</td>\n",
       "      <td>45000</td>\n",
       "    </tr>\n",
       "    <tr>\n",
       "      <th>1</th>\n",
       "      <td>Junior Consultant</td>\n",
       "      <td>2</td>\n",
       "      <td>50000</td>\n",
       "    </tr>\n",
       "    <tr>\n",
       "      <th>2</th>\n",
       "      <td>Senior Consultant</td>\n",
       "      <td>3</td>\n",
       "      <td>60000</td>\n",
       "    </tr>\n",
       "    <tr>\n",
       "      <th>3</th>\n",
       "      <td>Manager</td>\n",
       "      <td>4</td>\n",
       "      <td>80000</td>\n",
       "    </tr>\n",
       "    <tr>\n",
       "      <th>4</th>\n",
       "      <td>Country Manager</td>\n",
       "      <td>5</td>\n",
       "      <td>110000</td>\n",
       "    </tr>\n",
       "    <tr>\n",
       "      <th>5</th>\n",
       "      <td>Region Manager</td>\n",
       "      <td>6</td>\n",
       "      <td>150000</td>\n",
       "    </tr>\n",
       "    <tr>\n",
       "      <th>6</th>\n",
       "      <td>Partner</td>\n",
       "      <td>7</td>\n",
       "      <td>200000</td>\n",
       "    </tr>\n",
       "    <tr>\n",
       "      <th>7</th>\n",
       "      <td>Senior Partner</td>\n",
       "      <td>8</td>\n",
       "      <td>300000</td>\n",
       "    </tr>\n",
       "    <tr>\n",
       "      <th>8</th>\n",
       "      <td>C-level</td>\n",
       "      <td>9</td>\n",
       "      <td>500000</td>\n",
       "    </tr>\n",
       "    <tr>\n",
       "      <th>9</th>\n",
       "      <td>CEO</td>\n",
       "      <td>10</td>\n",
       "      <td>1000000</td>\n",
       "    </tr>\n",
       "  </tbody>\n",
       "</table>\n",
       "</div>"
      ],
      "text/plain": [
       "            Position  Level   Salary\n",
       "0   Business Analyst      1    45000\n",
       "1  Junior Consultant      2    50000\n",
       "2  Senior Consultant      3    60000\n",
       "3            Manager      4    80000\n",
       "4    Country Manager      5   110000\n",
       "5     Region Manager      6   150000\n",
       "6            Partner      7   200000\n",
       "7     Senior Partner      8   300000\n",
       "8            C-level      9   500000\n",
       "9                CEO     10  1000000"
      ]
     },
     "execution_count": 7,
     "metadata": {},
     "output_type": "execute_result"
    }
   ],
   "source": [
    "#import the dataset\n",
    "dataset = pd.read_csv('Position_Salaries.csv')\n",
    "dataset"
   ]
  },
  {
   "cell_type": "code",
   "execution_count": 8,
   "metadata": {},
   "outputs": [
    {
     "data": {
      "text/latex": [
       "$\\displaystyle \\left[\\begin{matrix}1\\\\2\\\\3\\\\4\\\\5\\\\6\\\\7\\\\8\\\\9\\\\10\\end{matrix}\\right]$"
      ],
      "text/plain": [
       "Matrix([\n",
       "[ 1],\n",
       "[ 2],\n",
       "[ 3],\n",
       "[ 4],\n",
       "[ 5],\n",
       "[ 6],\n",
       "[ 7],\n",
       "[ 8],\n",
       "[ 9],\n",
       "[10]])"
      ]
     },
     "execution_count": 8,
     "metadata": {},
     "output_type": "execute_result"
    }
   ],
   "source": [
    "X = dataset.iloc[:, 1:-1].values\n",
    "Matrix(X)"
   ]
  },
  {
   "cell_type": "code",
   "execution_count": 12,
   "metadata": {},
   "outputs": [
    {
     "data": {
      "text/latex": [
       "$\\displaystyle \\left[\\begin{matrix}45000\\\\50000\\\\60000\\\\80000\\\\110000\\\\150000\\\\200000\\\\300000\\\\500000\\\\1000000\\end{matrix}\\right]$"
      ],
      "text/plain": [
       "Matrix([\n",
       "[  45000],\n",
       "[  50000],\n",
       "[  60000],\n",
       "[  80000],\n",
       "[ 110000],\n",
       "[ 150000],\n",
       "[ 200000],\n",
       "[ 300000],\n",
       "[ 500000],\n",
       "[1000000]])"
      ]
     },
     "execution_count": 12,
     "metadata": {},
     "output_type": "execute_result"
    }
   ],
   "source": [
    "y = dataset.iloc[:, -1].values\n",
    "y = y.reshape(len(y),1) # reshape so that future functions have expected input\n",
    "Matrix(y)"
   ]
  },
  {
   "cell_type": "markdown",
   "metadata": {},
   "source": [
    "---\n",
    "\n",
    "Feature scaling is needed using standardization.  We will not split the data and use all available points for training so that we have a model with high performance.\n",
    "\n",
    "Since the values of the level is much lower than the salaries, we will need to scale the feature model.  Without feature scaling, the SVR model will not work as well. \n",
    "\n",
    "Both the level and salary will need to be scaled.\n",
    "\n",
    "---"
   ]
  },
  {
   "cell_type": "code",
   "execution_count": 14,
   "metadata": {},
   "outputs": [],
   "source": [
    "from sklearn.preprocessing import StandardScaler\n",
    "sc_X = StandardScaler()\n",
    "sc_y = StandardScaler()\n",
    "\n",
    "X = sc_X.fit_transform(X)  # it will compute the mean and stard deviation to scale the features\n",
    "y = sc_y.fit_transform(y)  # it will compute the mean and stard deviation to scale the targets"
   ]
  },
  {
   "cell_type": "code",
   "execution_count": 15,
   "metadata": {},
   "outputs": [
    {
     "data": {
      "text/latex": [
       "$\\displaystyle \\left[\\begin{matrix}-1.56669890360128\\\\-1.21854359168988\\\\-0.870388279778489\\\\-0.522232967867094\\\\-0.174077655955698\\\\0.174077655955698\\\\0.522232967867094\\\\0.870388279778489\\\\1.21854359168988\\\\1.56669890360128\\end{matrix}\\right]$"
      ],
      "text/plain": [
       "Matrix([\n",
       "[ -1.56669890360128],\n",
       "[ -1.21854359168988],\n",
       "[-0.870388279778489],\n",
       "[-0.522232967867094],\n",
       "[-0.174077655955698],\n",
       "[ 0.174077655955698],\n",
       "[ 0.522232967867094],\n",
       "[ 0.870388279778489],\n",
       "[  1.21854359168988],\n",
       "[  1.56669890360128]])"
      ]
     },
     "execution_count": 15,
     "metadata": {},
     "output_type": "execute_result"
    }
   ],
   "source": [
    "Matrix(X)"
   ]
  },
  {
   "cell_type": "code",
   "execution_count": 16,
   "metadata": {},
   "outputs": [
    {
     "data": {
      "text/latex": [
       "$\\displaystyle \\left[\\begin{matrix}-0.720042525177266\\\\-0.702437573461441\\\\-0.66722767002979\\\\-0.596807863166487\\\\-0.491178152871534\\\\-0.350338539144929\\\\-0.174289021986673\\\\0.177810012329838\\\\0.882008080962862\\\\2.64250325254542\\end{matrix}\\right]$"
      ],
      "text/plain": [
       "Matrix([\n",
       "[-0.720042525177266],\n",
       "[-0.702437573461441],\n",
       "[ -0.66722767002979],\n",
       "[-0.596807863166487],\n",
       "[-0.491178152871534],\n",
       "[-0.350338539144929],\n",
       "[-0.174289021986673],\n",
       "[ 0.177810012329838],\n",
       "[ 0.882008080962862],\n",
       "[  2.64250325254542]])"
      ]
     },
     "execution_count": 16,
     "metadata": {},
     "output_type": "execute_result"
    }
   ],
   "source": [
    "Matrix(y)"
   ]
  },
  {
   "cell_type": "markdown",
   "metadata": {},
   "source": [
    "---\n",
    "\n",
    "The features and targets have been scaled appropriately using the Sci Kit learn module.\n",
    "\n",
    "We will now build the model using Sci-Kit Learn and use the Gaussian RBF Kernel\n",
    "\n",
    "# $$ K ( \\overrightarrow{x}, \\overrightarrow{l^i} ) = e^{-\\frac{\\left\\lVert \\overrightarrow{x} - \\overrightarrow{l^i} \\right\\rVert ^2}{2 \\sigma^2}} $$\n",
    "\n",
    "---"
   ]
  },
  {
   "cell_type": "code",
   "execution_count": 17,
   "metadata": {},
   "outputs": [
    {
     "name": "stderr",
     "output_type": "stream",
     "text": [
      "C:\\ProgramData\\Anaconda3\\lib\\site-packages\\sklearn\\utils\\validation.py:73: DataConversionWarning: A column-vector y was passed when a 1d array was expected. Please change the shape of y to (n_samples, ), for example using ravel().\n",
      "  return f(**kwargs)\n"
     ]
    },
    {
     "data": {
      "text/plain": [
       "SVR()"
      ]
     },
     "execution_count": 17,
     "metadata": {},
     "output_type": "execute_result"
    }
   ],
   "source": [
    "# import the class\n",
    "from sklearn.svm import SVR\n",
    "# create an instance of the SVR \n",
    "regressor = SVR(kernel = 'rbf')\n",
    "# train the regressor using the entire dataset\n",
    "regressor.fit(X,y)"
   ]
  },
  {
   "cell_type": "markdown",
   "metadata": {},
   "source": [
    "---\n",
    "\n",
    "Use the recently trained model to make a prediction using a level of 6.5 as the candidate has that level.\n",
    "\n",
    "---"
   ]
  },
  {
   "cell_type": "code",
   "execution_count": 19,
   "metadata": {},
   "outputs": [
    {
     "data": {
      "text/plain": [
       "array([170370.0204065])"
      ]
     },
     "execution_count": 19,
     "metadata": {},
     "output_type": "execute_result"
    }
   ],
   "source": [
    "sc_y.inverse_transform(regressor.predict(sc_X.transform([[6.5]])))  # input the scaled version of 6.5"
   ]
  },
  {
   "cell_type": "markdown",
   "metadata": {},
   "source": [
    "---\n",
    "\n",
    "The predicted salary for the candidate at level 6.5 is $\\$170,000$ after transforming the input value and then inverse transforming the output\n",
    "\n",
    "\n",
    "\n",
    "We can inspect the model by performing a few visualizations.\n",
    "\n",
    "----\n"
   ]
  },
  {
   "cell_type": "code",
   "execution_count": 22,
   "metadata": {},
   "outputs": [
    {
     "data": {
      "image/png": "[encoded data removed]",
      "text/plain": [
       "<Figure size 432x288 with 1 Axes>"
      ]
     },
     "metadata": {
      "needs_background": "light"
     },
     "output_type": "display_data"
    }
   ],
   "source": [
    "plt.scatter(sc_X.inverse_transform(X), sc_y.inverse_transform(y), color = 'red')\n",
    "plt.plot(sc_X.inverse_transform(X), sc_y.inverse_transform(regressor.predict(X)), color = 'blue')\n",
    "plt.title('Truth or Bluff (Support Vector Regression)')\n",
    "plt.xlabel('Position level')\n",
    "plt.ylabel('Salary')\n",
    "plt.show()"
   ]
  },
  {
   "cell_type": "markdown",
   "metadata": {},
   "source": [
    "---\n",
    "\n",
    "This notebook shows that support vector regression was able to fit well the data but failed to capture the one outlier from the CEO.  This is important to know if you were to use this model.  The choice of kernel was also important as the data was non-linear and so our Gaussian RBF kernel was able to fit the non-linear data."
   ]
  }
 ],
 "metadata": {
  "kernelspec": {
   "display_name": "Python 3",
   "language": "python",
   "name": "python3"
  },
  "language_info": {
   "codemirror_mode": {
    "name": "ipython",
    "version": 3
   },
   "file_extension": ".py",
   "mimetype": "text/x-python",
   "name": "python",
   "nbconvert_exporter": "python",
   "pygments_lexer": "ipython3",
   "version": "3.7.3"
  }
 },
 "nbformat": 4,
 "nbformat_minor": 4
}
