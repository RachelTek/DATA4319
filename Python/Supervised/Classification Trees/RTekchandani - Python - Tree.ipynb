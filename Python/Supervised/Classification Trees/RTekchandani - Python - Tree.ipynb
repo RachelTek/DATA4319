{
 "cells": [
  {
   "cell_type": "markdown",
   "metadata": {},
   "source": [
    "## Rachel Tekchandani\n",
    "\n",
    "## DATA 4319 Machine Learning\n",
    "\n",
    "----\n",
    "\n",
    "## Decision Trees\n",
    "\n",
    "![](tree.jpg)\n",
    "\n",
    "A decision tree is a recursive way of building a tree-like structure to decide whether a set of features meet the criteria for a given label.\n",
    "\n",
    "----\n",
    "\n",
    "Is it possible to classify the origin of a car based on its MPG and Weight?  Some car manufacturers make cars lighter and more efficient.  These features may be used to predict where a car came from.  We will use the mpg and weight as features and the origin as the target and train a tree classifier."
   ]
  },
  {
   "cell_type": "code",
   "execution_count": 1,
   "metadata": {},
   "outputs": [],
   "source": [
    "# Bring in the MPG data\n",
    "import pandas as pd\n",
    "from numpy import array\n",
    "file1 = 'https://raw.githubusercontent.com/prince381/car_mpg_predict/master/cars1.csv'\n",
    "file2 = 'https://raw.githubusercontent.com/prince381/car_mpg_predict/master/cars2.csv'\n",
    "\n",
    "cars1 = pd.read_csv(file1)   # read in the first data file\n",
    "cars2 = pd.read_csv(file2)   # read in the second data file"
   ]
  },
  {
   "cell_type": "code",
   "execution_count": 2,
   "metadata": {},
   "outputs": [
    {
     "data": {
      "text/html": [
       "<div>\n",
       "<style scoped>\n",
       "    .dataframe tbody tr th:only-of-type {\n",
       "        vertical-align: middle;\n",
       "    }\n",
       "\n",
       "    .dataframe tbody tr th {\n",
       "        vertical-align: top;\n",
       "    }\n",
       "\n",
       "    .dataframe thead th {\n",
       "        text-align: right;\n",
       "    }\n",
       "</style>\n",
       "<table border=\"1\" class=\"dataframe\">\n",
       "  <thead>\n",
       "    <tr style=\"text-align: right;\">\n",
       "      <th></th>\n",
       "      <th>mpg</th>\n",
       "      <th>cylinders</th>\n",
       "      <th>displacement</th>\n",
       "      <th>horsepower</th>\n",
       "      <th>weight</th>\n",
       "      <th>acceleration</th>\n",
       "      <th>model</th>\n",
       "      <th>origin</th>\n",
       "      <th>car</th>\n",
       "    </tr>\n",
       "  </thead>\n",
       "  <tbody>\n",
       "    <tr>\n",
       "      <th>0</th>\n",
       "      <td>18.0</td>\n",
       "      <td>8</td>\n",
       "      <td>307</td>\n",
       "      <td>130</td>\n",
       "      <td>3504</td>\n",
       "      <td>12.0</td>\n",
       "      <td>70</td>\n",
       "      <td>1</td>\n",
       "      <td>chevrolet chevelle malibu</td>\n",
       "    </tr>\n",
       "    <tr>\n",
       "      <th>1</th>\n",
       "      <td>15.0</td>\n",
       "      <td>8</td>\n",
       "      <td>350</td>\n",
       "      <td>165</td>\n",
       "      <td>3693</td>\n",
       "      <td>11.5</td>\n",
       "      <td>70</td>\n",
       "      <td>1</td>\n",
       "      <td>buick skylark 320</td>\n",
       "    </tr>\n",
       "    <tr>\n",
       "      <th>2</th>\n",
       "      <td>18.0</td>\n",
       "      <td>8</td>\n",
       "      <td>318</td>\n",
       "      <td>150</td>\n",
       "      <td>3436</td>\n",
       "      <td>11.0</td>\n",
       "      <td>70</td>\n",
       "      <td>1</td>\n",
       "      <td>plymouth satellite</td>\n",
       "    </tr>\n",
       "    <tr>\n",
       "      <th>3</th>\n",
       "      <td>16.0</td>\n",
       "      <td>8</td>\n",
       "      <td>304</td>\n",
       "      <td>150</td>\n",
       "      <td>3433</td>\n",
       "      <td>12.0</td>\n",
       "      <td>70</td>\n",
       "      <td>1</td>\n",
       "      <td>amc rebel sst</td>\n",
       "    </tr>\n",
       "    <tr>\n",
       "      <th>4</th>\n",
       "      <td>17.0</td>\n",
       "      <td>8</td>\n",
       "      <td>302</td>\n",
       "      <td>140</td>\n",
       "      <td>3449</td>\n",
       "      <td>10.5</td>\n",
       "      <td>70</td>\n",
       "      <td>1</td>\n",
       "      <td>ford torino</td>\n",
       "    </tr>\n",
       "  </tbody>\n",
       "</table>\n",
       "</div>"
      ],
      "text/plain": [
       "    mpg  cylinders  displacement horsepower  weight  acceleration  model  \\\n",
       "0  18.0          8           307        130    3504          12.0     70   \n",
       "1  15.0          8           350        165    3693          11.5     70   \n",
       "2  18.0          8           318        150    3436          11.0     70   \n",
       "3  16.0          8           304        150    3433          12.0     70   \n",
       "4  17.0          8           302        140    3449          10.5     70   \n",
       "\n",
       "   origin                        car  \n",
       "0       1  chevrolet chevelle malibu  \n",
       "1       1          buick skylark 320  \n",
       "2       1         plymouth satellite  \n",
       "3       1              amc rebel sst  \n",
       "4       1                ford torino  "
      ]
     },
     "execution_count": 2,
     "metadata": {},
     "output_type": "execute_result"
    }
   ],
   "source": [
    "# we have other columns named unamed which contains only NaN values\n",
    "# so we drop them.\n",
    "cars1.drop(cars1.columns[9:],axis=1,inplace=True) \n",
    "\n",
    "# concatenate the two data\n",
    "cars = pd.concat([cars1,cars2])\n",
    "cars.head()  # print the first five rows of the data"
   ]
  },
  {
   "cell_type": "code",
   "execution_count": 3,
   "metadata": {},
   "outputs": [],
   "source": [
    "features = cars[[\"mpg\",\"weight\"]]\n",
    "features = array(features)"
   ]
  },
  {
   "cell_type": "code",
   "execution_count": 4,
   "metadata": {},
   "outputs": [],
   "source": [
    "labels = array(cars[\"origin\"])"
   ]
  },
  {
   "cell_type": "code",
   "execution_count": 5,
   "metadata": {},
   "outputs": [
    {
     "data": {
      "text/plain": [
       "DecisionTreeClassifier(class_weight=None, criterion='gini', max_depth=2,\n",
       "                       max_features=None, max_leaf_nodes=None,\n",
       "                       min_impurity_decrease=0.0, min_impurity_split=None,\n",
       "                       min_samples_leaf=1, min_samples_split=2,\n",
       "                       min_weight_fraction_leaf=0.0, presort=False,\n",
       "                       random_state=None, splitter='best')"
      ]
     },
     "execution_count": 5,
     "metadata": {},
     "output_type": "execute_result"
    }
   ],
   "source": [
    "from sklearn.tree import DecisionTreeClassifier\n",
    "from sklearn import tree\n",
    "\n",
    "\n",
    "car_clf = DecisionTreeClassifier(max_depth=2)\n",
    "car_clf.fit(features,labels)"
   ]
  },
  {
   "cell_type": "code",
   "execution_count": 8,
   "metadata": {},
   "outputs": [
    {
     "data": {
      "text/plain": [
       "[Text(167.4, 181.2, 'X[1] <= 2562.5\\nentropy = 0.538\\nsamples = 398\\nvalue = [249, 70, 79]'),\n",
       " Text(83.7, 108.72, 'X[0] <= 30.95\\nentropy = 0.653\\nsamples = 156\\nvalue = [43, 46, 67]'),\n",
       " Text(41.85, 36.23999999999998, 'entropy = 0.665\\nsamples = 83\\nvalue = [28, 30, 25]'),\n",
       " Text(125.55000000000001, 36.23999999999998, 'entropy = 0.579\\nsamples = 73\\nvalue = [15, 16, 42]'),\n",
       " Text(251.10000000000002, 108.72, 'X[1] <= 3274.0\\nentropy = 0.263\\nsamples = 242\\nvalue = [206, 24, 12]'),\n",
       " Text(209.25, 36.23999999999998, 'entropy = 0.474\\nsamples = 106\\nvalue = [73, 21, 12]'),\n",
       " Text(292.95, 36.23999999999998, 'entropy = 0.043\\nsamples = 136\\nvalue = [133, 3, 0]')]"
      ]
     },
     "execution_count": 8,
     "metadata": {},
     "output_type": "execute_result"
    },
    {
     "data": {
      "image/png": "[encoded data removed]",
      "text/plain": [
       "<Figure size 432x288 with 1 Axes>"
      ]
     },
     "metadata": {
      "needs_background": "light"
     },
     "output_type": "display_data"
    }
   ],
   "source": [
    "%matplotlib inline\n",
    "tree.plot_tree(car_clf)"
   ]
  },
  {
   "cell_type": "markdown",
   "metadata": {},
   "source": [
    "---\n",
    "\n",
    "The tree above is a visualization of the classifier in a tree format.  Using the same classifier, we can make predictions and then see if the prediction is accurate based on the known values from the labels list.\n",
    "\n",
    "---"
   ]
  },
  {
   "cell_type": "code",
   "execution_count": 14,
   "metadata": {},
   "outputs": [],
   "source": [
    "def predictAndCompare(x):\n",
    "    prediction = car_clf.predict([features[x]])[0]\n",
    "    print(f\"The predicted origin for {x} is {prediction}. \")\n",
    "    correct = labels[22]\n",
    "    print(f\"The correct label for {x} is {correct}.\")\n",
    "    if correct == prediction:\n",
    "        print(\"In This case, the prediction was correct\")\n",
    "    else:\n",
    "        print(\"In this case, the prediction was incorrect.\")\n",
    "    print(\"-----------------------------------------------\")"
   ]
  },
  {
   "cell_type": "code",
   "execution_count": 15,
   "metadata": {},
   "outputs": [
    {
     "name": "stdout",
     "output_type": "stream",
     "text": [
      "The predicted origin for 4 is 1. \n",
      "The correct label for 4 is 2.\n",
      "In this case, the prediction was incorrect.\n",
      "-----------------------------------------------\n",
      "The predicted origin for 8 is 1. \n",
      "The correct label for 8 is 2.\n",
      "In this case, the prediction was incorrect.\n",
      "-----------------------------------------------\n",
      "The predicted origin for 16 is 1. \n",
      "The correct label for 16 is 2.\n",
      "In this case, the prediction was incorrect.\n",
      "-----------------------------------------------\n",
      "The predicted origin for 32 is 2. \n",
      "The correct label for 32 is 2.\n",
      "In This case, the prediction was correct\n",
      "-----------------------------------------------\n"
     ]
    }
   ],
   "source": [
    "testThese = [4,8,16,32]\n",
    "for this in testThese:\n",
    "    predictAndCompare(this)"
   ]
  },
  {
   "cell_type": "markdown",
   "metadata": {},
   "source": [
    "---\n",
    "\n",
    "The classifier appears to have some trouble being able to correctly classify the origin of a car using only the mpg and weight. To improve the performance, additional features may be added or we may need additional examples for training.\n",
    "\n",
    "This notebook did successfully show the process of creating a decision tree using the sci-kit learn package. This tree was visualized and then used to make a prediction."
   ]
  }
 ],
 "metadata": {
  "kernelspec": {
   "display_name": "Python 3",
   "language": "python",
   "name": "python3"
  },
  "language_info": {
   "codemirror_mode": {
    "name": "ipython",
    "version": 3
   },
   "file_extension": ".py",
   "mimetype": "text/x-python",
   "name": "python",
   "nbconvert_exporter": "python",
   "pygments_lexer": "ipython3",
   "version": "3.7.3"
  }
 },
 "nbformat": 4,
 "nbformat_minor": 4
}
